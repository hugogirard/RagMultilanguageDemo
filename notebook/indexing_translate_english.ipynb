{
 "cells": [
  {
   "cell_type": "markdown",
   "id": "94dda84d",
   "metadata": {},
   "source": [
    "# 🌍 Multilingual Document Translation & Indexing Pipeline\n",
    "\n",
    "This notebook demonstrates an end-to-end pipeline for translating multilingual documents to English and indexing them in Azure AI Search with vector embeddings.\n",
    "\n",
    "## 📊 Workflow Overview\n",
    "\n",
    "```mermaid\n",
    "graph TB\n",
    "    A[📁 Multilingual Excel File] --> B[📤 Upload to Source Container]\n",
    "    B --> C[🔐 Generate SAS Tokens]\n",
    "    C --> D[🔄 Azure Document Translation]\n",
    "    D --> E[⏳ Wait for Translation]\n",
    "    E --> F[📥 Download Translated File]\n",
    "    F --> G[📋 Convert to JSON]\n",
    "    G --> H[🧮 Generate Embeddings]\n",
    "    H --> I[🔍 Index in Azure AI Search]\n",
    "    \n",
    "    style A fill:#e3f2fd\n",
    "    style D fill:#fff3e0\n",
    "    style H fill:#f3e5f5\n",
    "    style I fill:#e8f5e9\n",
    "```\n",
    "\n",
    "## 🎯 Key Steps\n",
    "\n",
    "1. **Setup** - Initialize Azure service clients (Storage, Translation, OpenAI, Search)\n",
    "2. **Upload** - Upload multilingual documents to blob storage\n",
    "3. **Translate** - Use Azure Document Translation to convert to English\n",
    "4. **Vectorize** - Generate embeddings using Azure OpenAI\n",
    "5. **Index** - Store in Azure AI Search for semantic search\n"
   ]
  },
  {
   "cell_type": "markdown",
   "id": "9911e4cb",
   "metadata": {},
   "source": [
    "## 📦 Step 1: Import Required Libraries\n",
    "\n",
    "Import all necessary Azure SDK libraries and utilities for the translation and indexing pipeline."
   ]
  },
  {
   "cell_type": "code",
   "execution_count": 148,
   "id": "5c94d095",
   "metadata": {},
   "outputs": [],
   "source": [
    "from dotenv import load_dotenv\n",
    "from azure.storage.blob.aio import BlobServiceClient, BlobClient, ContainerClient\n",
    "from azure.storage.blob import (\n",
    "    generate_blob_sas,     \n",
    "    UserDelegationKey, \n",
    "    BlobSasPermissions,\n",
    "    ContainerSasPermissions, \n",
    "    generate_container_sas\n",
    ")\n",
    "from azure.identity.aio import DefaultAzureCredential\n",
    "from azure.ai.translation.document.aio import DocumentTranslationClient\n",
    "from azure.ai.translation.document.aio import SingleDocumentTranslationClient\n",
    "from azure.ai.translation.document.models import DocumentTranslateContent\n",
    "from azure.core.credentials import AzureKeyCredential\n",
    "from azure.search.documents.aio import SearchClient\n",
    "from openai import AsyncAzureOpenAI\n",
    "import datetime\n",
    "import aiohttp\n",
    "import json\n",
    "import os\n",
    "import asyncio\n",
    "import pandas as pd"
   ]
  },
  {
   "cell_type": "markdown",
   "id": "08a17923",
   "metadata": {},
   "source": [
    "## ⚙️ Step 2: Load Configuration\n",
    "\n",
    "Load environment variables containing Azure service endpoints and credentials."
   ]
  },
  {
   "cell_type": "code",
   "execution_count": 153,
   "id": "bf5b2534",
   "metadata": {},
   "outputs": [],
   "source": [
    "load_dotenv(override=True)\n",
    "\n",
    "storage_account_url = os.getenv('STORAGE_ACCOUNT_URL')\n",
    "translator_endpoint = os.getenv('DOCUMENT_TRANSLATION_ENDPOINT')\n",
    "translator_key = os.getenv('TRANSLATION_KEY')\n",
    "\n",
    "open_ai_endpoint = os.getenv('OPENAI_ENDPOINT')\n",
    "open_ai_key = os.getenv('OPENAI_KEY')\n",
    "open_ai_embedding_model = os.getenv('EMBEDDING_OPENAI_DEPLOYMENT')\n",
    "\n",
    "# Search\n",
    "search_endpoint = os.getenv('SEARCH_ENDPOINT')\n",
    "search_api_key = os.getenv('SEARCH_API_KEY')"
   ]
  },
  {
   "cell_type": "markdown",
   "id": "3bc66c82",
   "metadata": {},
   "source": [
    "## 🔌 Step 3: Initialize Azure Clients\n",
    "\n",
    "Create authenticated clients for:\n",
    "- 📦 **Azure Blob Storage** - Document storage\n",
    "- 🌐 **Azure Document Translation** - Multi-language translation\n",
    "- 🤖 **Azure OpenAI** - Embedding generation\n",
    "- 🔍 **Azure AI Search** - Vector search indexing"
   ]
  },
  {
   "cell_type": "code",
   "execution_count": 155,
   "id": "3d3cb5b7",
   "metadata": {},
   "outputs": [],
   "source": [
    "default_credential = DefaultAzureCredential()\n",
    "\n",
    "blob_service_client = BlobServiceClient(storage_account_url,credential=default_credential)\n",
    "\n",
    "document_translation_client = DocumentTranslationClient(translator_endpoint,AzureKeyCredential(translator_key))\n",
    "\n",
    "openai = AsyncAzureOpenAI(\n",
    "    azure_endpoint=open_ai_endpoint,\n",
    "    api_key=open_ai_key,\n",
    "    api_version=\"2024-12-01-preview\"\n",
    ")\n",
    "\n",
    "index_name=\"translated\"\n",
    "\n",
    "credential = AzureKeyCredential(search_api_key)\n",
    "\n",
    "search_client = SearchClient(endpoint=search_endpoint,\n",
    "                             index_name=index_name,\n",
    "                             credential=credential)"
   ]
  },
  {
   "cell_type": "markdown",
   "id": "c5810a73",
   "metadata": {},
   "source": [
    "## 📁 Step 4: Configure Storage Containers\n",
    "\n",
    "Set up source and destination blob containers:\n",
    "- **upload** - Source container for multilingual files\n",
    "- **translation** - Destination container for translated files"
   ]
  },
  {
   "cell_type": "code",
   "execution_count": 90,
   "id": "b6ec96d7",
   "metadata": {},
   "outputs": [],
   "source": [
    "container_source = \"upload\"\n",
    "container_translation = \"translation\"\n",
    "\n",
    "container_client_source = blob_service_client.get_container_client(container_source)\n",
    "container_client_translation = blob_service_client.get_container_client(container_translation)"
   ]
  },
  {
   "cell_type": "markdown",
   "id": "179b5d98",
   "metadata": {},
   "source": [
    "## 🛠️ Step 5: Define Helper Functions\n",
    "\n",
    "Create utility functions for container management, SAS token generation, and file conversion."
   ]
  },
  {
   "cell_type": "code",
   "execution_count": 63,
   "id": "1040263a",
   "metadata": {},
   "outputs": [],
   "source": [
    "async def create_container(container_client:ContainerClient):\n",
    "\n",
    "    container_exists = await container_client.exists()\n",
    "\n",
    "    if container_exists:\n",
    "        await container_client.delete_container()\n",
    "\n",
    "    await container_client.create_container()"
   ]
  },
  {
   "cell_type": "markdown",
   "id": "cd387dad",
   "metadata": {},
   "source": [
    "## 🧹 Step 6: Prepare Clean Containers\n",
    "\n",
    "Recreate containers to ensure a fresh environment for the translation process."
   ]
  },
  {
   "cell_type": "code",
   "execution_count": 64,
   "id": "549a7609",
   "metadata": {},
   "outputs": [],
   "source": [
    "await create_container(container_client_source)\n",
    "await create_container(container_client_translation)"
   ]
  },
  {
   "cell_type": "markdown",
   "id": "1bff5757",
   "metadata": {},
   "source": [
    "## 📤 Step 7: Upload Source Document\n",
    "\n",
    "Upload the multilingual Excel file (`car_problems_multilingual.xlsx`) to the source container."
   ]
  },
  {
   "cell_type": "code",
   "execution_count": 65,
   "id": "2d17f4af",
   "metadata": {},
   "outputs": [],
   "source": [
    "filename = \"car_problems_multilingual.xlsx\"\n",
    "\n",
    "blob_client_original_doc = blob_service_client.get_blob_client(container=container_source,blob=filename)\n",
    "\n",
    "if await blob_client_original_doc.exists():\n",
    "    await blob_client_original_doc.delete_blob()\n",
    "\n",
    "# Upload the data\n",
    "with open(file=filename, mode=\"rb\") as data:\n",
    "    await blob_client_original_doc.upload_blob(data)"
   ]
  },
  {
   "cell_type": "markdown",
   "id": "1a31e499",
   "metadata": {},
   "source": [
    "## 🔐 Step 8: Define SAS Token Functions\n",
    "\n",
    "Functions to generate Shared Access Signatures (SAS) for secure, temporary access to blob storage resources."
   ]
  },
  {
   "cell_type": "code",
   "execution_count": 137,
   "id": "f180f571",
   "metadata": {},
   "outputs": [],
   "source": [
    "async def request_user_delegation_key(blob_service_client: BlobServiceClient) -> UserDelegationKey:\n",
    "    # Get a user delegation key that's valid for 1 day\n",
    "    delegation_key_start_time = datetime.datetime.now(datetime.timezone.utc)\n",
    "    delegation_key_expiry_time = delegation_key_start_time + datetime.timedelta(hours=1)\n",
    "\n",
    "    user_delegation_key = await blob_service_client.get_user_delegation_key(\n",
    "        key_start_time=delegation_key_start_time,\n",
    "        key_expiry_time=delegation_key_expiry_time\n",
    "    )\n",
    "\n",
    "    return user_delegation_key\n",
    "\n",
    "def create_user_delegation_sas_blob(blob_client: BlobClient, user_delegation_key: UserDelegationKey):\n",
    "    # Create a SAS token that's valid for one day, as an example\n",
    "    start_time = datetime.datetime.now(datetime.timezone.utc)\n",
    "    expiry_time = start_time + datetime.timedelta(hours=1)\n",
    "\n",
    "    sas_token = generate_blob_sas(\n",
    "        account_name=blob_client.account_name,\n",
    "        container_name=blob_client.container_name,\n",
    "        blob_name=blob_client.blob_name,\n",
    "        user_delegation_key=user_delegation_key,\n",
    "        permission=BlobSasPermissions(read=True),\n",
    "        expiry=expiry_time,\n",
    "        start=start_time\n",
    "    )\n",
    "\n",
    "    return sas_token\n",
    "\n",
    "def create_user_delegation_sas_container(container_client: ContainerClient, \n",
    "                                         permission:ContainerSasPermissions,\n",
    "                                         user_delegation_key: UserDelegationKey):\n",
    "    # Create a SAS token that's valid for one day, as an example\n",
    "    start_time = datetime.datetime.now(datetime.timezone.utc)\n",
    "    expiry_time = start_time + datetime.timedelta(hours=1)\n",
    "\n",
    "    sas_token = generate_container_sas(\n",
    "        account_name=container_client.account_name,\n",
    "        container_name=container_client.container_name,\n",
    "        user_delegation_key=user_delegation_key,\n",
    "        permission=permission,\n",
    "        expiry=expiry_time,\n",
    "        start=start_time\n",
    "    )\n",
    "\n",
    "    return sas_token\n",
    "\n",
    "def csv_to_json_array(csv_file:str, output_file:str):\n",
    "    \"\"\"Convert CSV or Excel file to array of JSON objects with snake_case field names\"\"\"\n",
    "    \n",
    "    # Check file extension and read accordingly\n",
    "    if csv_file.endswith('.xlsx') or csv_file.endswith('.xls'):\n",
    "        # Read Excel file into DataFrame\n",
    "        df = pd.read_excel(csv_file)\n",
    "    else:\n",
    "        # Read CSV file into DataFrame\n",
    "        df = pd.read_csv(csv_file)\n",
    "    \n",
    "    # Replace NaN values with empty strings\n",
    "    df = df.fillna('')\n",
    "    \n",
    "    # Convert column names from \"Title Case\" to \"snake_case\"\n",
    "    def to_snake_case(name):\n",
    "        # Replace spaces with underscores and convert to lowercase\n",
    "        return name.replace(' ', '_').lower()\n",
    "    \n",
    "    # Rename all columns to snake_case\n",
    "    df.columns = [to_snake_case(col) for col in df.columns]\n",
    "    \n",
    "    # Convert DataFrame to list of dictionaries (JSON objects)\n",
    "    data = df.to_dict(orient='records')\n",
    "    \n",
    "    # Print the result\n",
    "    print(f\"Converted {len(data)} records from {csv_file} to JSON array\")\n",
    "    print(f\"Converted column names: {list(df.columns)}\")\n",
    "    print(\"\\nFirst record example:\")\n",
    "    print(json.dumps(data[0], indent=2))\n",
    "    \n",
    "    # Save JSON array to file\n",
    "    with open(output_file, 'w', encoding='utf-8') as f:\n",
    "        json.dump(data, f, indent=2, ensure_ascii=False)\n",
    "    print(f\"\\nJSON array saved to: {output_file}\")"
   ]
  },
  {
   "cell_type": "markdown",
   "id": "f7abdd72",
   "metadata": {},
   "source": [
    "## 🎫 Step 9: Request User Delegation Key\n",
    "\n",
    "Obtain a user delegation key from Azure Storage for creating SAS tokens."
   ]
  },
  {
   "cell_type": "code",
   "execution_count": 92,
   "id": "2f17acaf",
   "metadata": {},
   "outputs": [],
   "source": [
    "user_delegation_key = await request_user_delegation_key(blob_service_client)"
   ]
  },
  {
   "cell_type": "markdown",
   "id": "2c21c788",
   "metadata": {},
   "source": [
    "## 🔒 Step 10: Generate SAS Tokens\n",
    "\n",
    "Create SAS tokens for:\n",
    "- **Source container** - Read and list permissions\n",
    "- **Destination container** - Write and list permissions"
   ]
  },
  {
   "cell_type": "code",
   "execution_count": 108,
   "id": "573a2665",
   "metadata": {},
   "outputs": [],
   "source": [
    "source_container_sas = create_user_delegation_sas_container(container_client_source,\n",
    "                                                            ContainerSasPermissions(list=True,read=True),\n",
    "                                                            user_delegation_key)\n",
    "destination_container_sas = create_user_delegation_sas_container(container_client_translation,\n",
    "                                                                 ContainerSasPermissions(list=True,write=True),\n",
    "                                                                 user_delegation_key)"
   ]
  },
  {
   "cell_type": "markdown",
   "id": "82addbc0",
   "metadata": {},
   "source": [
    "## 🔗 Step 11: Build Container URLs\n",
    "\n",
    "Construct complete URLs with SAS tokens for the Azure Document Translation service."
   ]
  },
  {
   "cell_type": "code",
   "execution_count": 122,
   "id": "a3e7425d",
   "metadata": {},
   "outputs": [],
   "source": [
    "container_source_url = f\"{container_client_source.url}?{source_container_sas}\"\n",
    "container_destination_url = f\"{container_client_translation.url}?{destination_container_sas}\""
   ]
  },
  {
   "cell_type": "markdown",
   "id": "e4781167",
   "metadata": {},
   "source": [
    "## 🔄 Step 12: Start Translation Job\n",
    "\n",
    "Initiate the document translation from multiple languages to English (en-US)."
   ]
  },
  {
   "cell_type": "code",
   "execution_count": 126,
   "id": "a2a72214",
   "metadata": {},
   "outputs": [],
   "source": [
    "poller = await document_translation_client.begin_translation(source_url=container_source_url,\n",
    "                                                             target_url=container_destination_url,\n",
    "                                                             target_language=\"en-US\")"
   ]
  },
  {
   "cell_type": "markdown",
   "id": "1513b5be",
   "metadata": {},
   "source": [
    "## ⏳ Step 13: Wait for Translation Completion\n",
    "\n",
    "Poll the translation service until the job completes."
   ]
  },
  {
   "cell_type": "code",
   "execution_count": 127,
   "id": "ca5c18c9",
   "metadata": {},
   "outputs": [],
   "source": [
    "result = await poller.result()"
   ]
  },
  {
   "cell_type": "markdown",
   "id": "77774c4e",
   "metadata": {},
   "source": [
    "## 📊 Step 14: Check Translation Status\n",
    "\n",
    "Verify the current status of the translation operation."
   ]
  },
  {
   "cell_type": "code",
   "execution_count": 128,
   "id": "30f30303",
   "metadata": {},
   "outputs": [
    {
     "data": {
      "text/plain": [
       "'Succeeded'"
      ]
     },
     "execution_count": 128,
     "metadata": {},
     "output_type": "execute_result"
    }
   ],
   "source": [
    "poller.status()"
   ]
  },
  {
   "cell_type": "markdown",
   "id": "44701f9e",
   "metadata": {},
   "source": [
    "## ✅ Step 15: Retrieve Translation Results\n",
    "\n",
    "Process the translation results and get the URL of the translated document."
   ]
  },
  {
   "cell_type": "code",
   "execution_count": null,
   "id": "477785a1",
   "metadata": {},
   "outputs": [],
   "source": [
    "async for document in result:\n",
    "\n",
    "    print(f\"Document ID: {document.id}\")\n",
    "    print(f\"Document status: {document.status}\")\n",
    "\n",
    "    if document.status == \"Succeeded\":\n",
    "        print(f\"Source document location: {document.source_document_url}\")\n",
    "        blob_translated_document = document.translated_document_url\n",
    "        print(f\"Translated document location: {document.translated_document_url}\")\n",
    "        print(f\"Translated to language: {document.translated_to}\\n\")\n",
    "    elif document.error:\n",
    "        print(f\"Error Code: {document.error.code}, Message: {document.error.message}\\n\")\n",
    "\n",
    "    # In this scenario we have only one document \n",
    "    break"
   ]
  },
  {
   "cell_type": "markdown",
   "id": "4ed9d3bf",
   "metadata": {},
   "source": [
    "## 🔑 Step 16: Create Download SAS Token\n",
    "\n",
    "Generate a SAS token for downloading the translated blob."
   ]
  },
  {
   "cell_type": "code",
   "execution_count": 143,
   "id": "df6c7104",
   "metadata": {},
   "outputs": [],
   "source": [
    "blob_client = BlobClient.from_blob_url(blob_translated_document)\n",
    "\n",
    "sas_blob = create_user_delegation_sas_blob(blob_client,user_delegation_key)"
   ]
  },
  {
   "cell_type": "markdown",
   "id": "269df027",
   "metadata": {},
   "source": [
    "## 📥 Step 17: Download Translated Document\n",
    "\n",
    "Download the translated Excel file from blob storage to local disk."
   ]
  },
  {
   "cell_type": "code",
   "execution_count": null,
   "id": "f0d8b3cc",
   "metadata": {},
   "outputs": [],
   "source": [
    "# Create the full URL with SAS token\n",
    "blob_url_with_sas = f\"{blob_translated_document}?{sas_blob}\"\n",
    "\n",
    "async with aiohttp.ClientSession() as session:\n",
    "    async with session.get(blob_url_with_sas) as response:\n",
    "        if response.status == 200:\n",
    "            blob_data = await response.read()\n",
    "            \n",
    "            # Write to disk\n",
    "            output_filename = \"car_problems_translated_english.xlsx\"\n",
    "            with open(output_filename, \"wb\") as file:\n",
    "                file.write(blob_data)\n",
    "            \n",
    "            print(f\"Translated file saved as: {output_filename}\")\n",
    "            print(f\"File size: {len(blob_data)} bytes\")\n",
    "        else:\n",
    "            print(f\"Error downloading file: {response.status}\")"
   ]
  },
  {
   "cell_type": "markdown",
   "id": "9770028f",
   "metadata": {},
   "source": [
    "## 📋 Step 18: Convert Excel to JSON\n",
    "\n",
    "Transform the translated Excel file into JSON format with snake_case field names for easier processing."
   ]
  },
  {
   "cell_type": "code",
   "execution_count": null,
   "id": "3a6923b2",
   "metadata": {},
   "outputs": [],
   "source": [
    "csv_to_json_array(\"car_problems_translated_english.xlsx\",\"car_problems_translated_english.json\")"
   ]
  },
  {
   "cell_type": "markdown",
   "id": "ba0b6070",
   "metadata": {},
   "source": [
    "## 🧮 Step 19: Generate Vector Embeddings\n",
    "\n",
    "Use Azure OpenAI to create vector embeddings for each car problem description. These embeddings enable semantic search capabilities."
   ]
  },
  {
   "cell_type": "code",
   "execution_count": null,
   "id": "f5e14cc2",
   "metadata": {},
   "outputs": [],
   "source": [
    "# Read the JSON file\n",
    "with open('car_problems_translated_english.json', 'r', encoding='utf-8') as f:\n",
    "    cars = json.load(f)\n",
    "\n",
    "documents = []\n",
    "\n",
    "for car in cars:\n",
    "\n",
    "    text_to_embed = car['fault']\n",
    "\n",
    "    response = await openai.embeddings.create(\n",
    "        input=text_to_embed,\n",
    "        model=open_ai_embedding_model\n",
    "    )    \n",
    "\n",
    "    car['vector'] = response.data[0].embedding\n",
    "\n",
    "    documents.append(car)\n",
    "\n",
    "print(f\"{len(documents)} documents vectorized\")        "
   ]
  },
  {
   "cell_type": "markdown",
   "id": "231865b0",
   "metadata": {},
   "source": [
    "## 🔍 Step 20: Upload to Azure AI Search\n",
    "\n",
    "Index all translated and vectorized documents in Azure AI Search for powerful semantic search."
   ]
  },
  {
   "cell_type": "code",
   "execution_count": null,
   "id": "90e88a2c",
   "metadata": {},
   "outputs": [],
   "source": [
    "try:\n",
    "    result = await search_client.upload_documents(cars)\n",
    "    print(\"Upload of new document succeeded: {}\".format(result[0].succeeded))\n",
    "except Exception as ex:\n",
    "    print(ex)"
   ]
  },
  {
   "cell_type": "markdown",
   "id": "7fbc2fbf",
   "metadata": {},
   "source": [
    "## 🎉 Pipeline Complete!\n",
    "\n",
    "### Summary of Achievements:\n",
    "\n",
    "✅ **Translation**: Multilingual documents converted to English  \n",
    "✅ **Vectorization**: Text embeddings generated for semantic search  \n",
    "✅ **Indexing**: Documents stored in Azure AI Search  \n",
    "\n",
    "### 🚀 Next Steps:\n",
    "\n",
    "You can now perform:\n",
    "- 🔎 Semantic searches across translated content\n",
    "- 🌐 Multi-language query support\n",
    "- 📊 Vector similarity searches for car problems\n",
    "\n",
    "### 📈 Results:\n",
    "\n",
    "- **Source**: Multilingual Excel file with car problems\n",
    "- **Target**: English-translated, vectorized, searchable index\n",
    "- **Capability**: Semantic search with AI-powered understanding"
   ]
  }
 ],
 "metadata": {
  "kernelspec": {
   "display_name": ".venv",
   "language": "python",
   "name": "python3"
  },
  "language_info": {
   "codemirror_mode": {
    "name": "ipython",
    "version": 3
   },
   "file_extension": ".py",
   "mimetype": "text/x-python",
   "name": "python",
   "nbconvert_exporter": "python",
   "pygments_lexer": "ipython3",
   "version": "3.10.12"
  }
 },
 "nbformat": 4,
 "nbformat_minor": 5
}
