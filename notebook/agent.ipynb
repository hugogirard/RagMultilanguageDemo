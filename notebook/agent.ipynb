{
 "cells": [
  {
   "cell_type": "markdown",
   "id": "8818e3b8",
   "metadata": {},
   "source": [
    "# Multilingual Car Troubleshooting Agent\n",
    "\n",
    "This notebook demonstrates three different approaches for building a multilingual car troubleshooting agent:\n",
    "1. **English Translation Approach**: Translates all queries to English for search\n",
    "2. **Native Language Approach with Cohere**: Searches in the user's original language using Cohere embeddings (1024 dimensions)\n",
    "3. **Native Language Approach with OpenAI**: Searches in the user's original language using OpenAI embeddings (1536 dimensions)\n",
    "\n",
    "All approaches use Azure AI Foundry Agents with function calling capabilities."
   ]
  },
  {
   "cell_type": "code",
   "execution_count": null,
   "id": "ea48a80f",
   "metadata": {},
   "outputs": [],
   "source": [
    "from openai import AsyncAzureOpenAI\n",
    "from azure.core.credentials import AzureKeyCredential\n",
    "from azure.search.documents.aio import SearchClient\n",
    "from azure.identity import DefaultAzureCredential\n",
    "from azure.ai.inference.aio import EmbeddingsClient\n",
    "from tools import (\n",
    "    get_resolution_english, \n",
    "    get_resolution_asked_language_cohere,\n",
    "    get_resolution_asked_language_openai\n",
    ")\n",
    "from azure.ai.agents.models import (\n",
    "    ToolSet,\n",
    "    FunctionTool,\n",
    "    MessageRole    \n",
    ")\n",
    "from azure.ai.projects import AIProjectClient\n",
    "from dotenv import load_dotenv\n",
    "import json\n",
    "import os"
   ]
  },
  {
   "cell_type": "markdown",
   "id": "bc1cbf36",
   "metadata": {},
   "source": [
    "## Configuration and Client Setup\n",
    "\n",
    "Load environment variables and initialize the Azure AI Foundry project client. Define agent names for the three different approaches:\n",
    "- **agent_english**: Uses English translation with OpenAI embeddings\n",
    "- **agent_multi_cohere**: Uses native language search with Cohere embeddings\n",
    "- **agent_multi_openai**: Uses native language search with OpenAI embeddings"
   ]
  },
  {
   "cell_type": "code",
   "execution_count": null,
   "id": "15857c77",
   "metadata": {},
   "outputs": [],
   "source": [
    "load_dotenv(override=True)\n",
    "\n",
    "project_endpoint = os.getenv('AI_FOUNDRY_PROJECT_ENDPOINT')\n",
    "open_ai_completion_chat_model = os.getenv('OPEN_AI_CHAT_MODEL')\n",
    "\n",
    "project = AIProjectClient(\n",
    "    endpoint=project_endpoint,\n",
    "    credential=DefaultAzureCredential()    \n",
    ")\n",
    "\n",
    "AGENT_NAME_ENGLISH = \"agent_english\"\n",
    "AGENT_MULTI_COHERE = \"agent_multi_cohere\"\n",
    "AGENT_MULTI_OPEN_AI = \"agent_multi_openai\"\n"
   ]
  },
  {
   "cell_type": "markdown",
   "id": "d69111e7",
   "metadata": {},
   "source": [
    "## Agent Instructions"
   ]
  },
  {
   "cell_type": "markdown",
   "id": "08fef52d",
   "metadata": {},
   "source": [
    "### English Translation Approach System Prompt\n",
    "\n",
    "This agent translates all inputs to English before searching:\n",
    "- Detects user language\n",
    "- Translates brand, model, and fault to English\n",
    "- Searches in English-only index\n",
    "- Translates results back to user's language"
   ]
  },
  {
   "cell_type": "code",
   "execution_count": null,
   "id": "d23e63d8",
   "metadata": {},
   "outputs": [],
   "source": [
    "instructions_english = \"\"\"You are a helpful car troubleshooting assistant. Your role is to help users find resolutions to car problems by searching through a database of known issues and fixes.\n",
    "\n",
    "When a user asks for help with a car problem, you MUST:\n",
    "\n",
    "1. Identify and extract the following information from the conversation:\n",
    "   - brand: The car manufacturer/brand (e.g., Toyota, Honda, Ford) - translate to English if needed\n",
    "   - model: The car model (e.g., Corolla, Civic, Focus) - translate to English if needed\n",
    "   - fault: Description of the problem/fault (REQUIRED) - translate to English if needed\n",
    "\n",
    "2. Language Detection and Translation:\n",
    "   - DETECT the language the user is using in their question\n",
    "   - If the user speaks in a language OTHER than English, you MUST:\n",
    "     * Translate the brand, model, and fault parameters to English before calling get_resolution_english\n",
    "     * Keep the original user language in mind for your response\n",
    "   - Supported languages include: English, French, Spanish, Japanese, Chinese, Greek, Hebrew, and others\n",
    "\n",
    "3. The ONLY required piece of information is the fault description. If the user has not provided any problem description, ask them to describe their car issue.\n",
    "\n",
    "4. As soon as you have a fault description, IMMEDIATELY call the get_resolution_english function with:\n",
    "   - brand: Car manufacturer (translate to English if needed, or use empty string \"\" if not mentioned)\n",
    "   - model: Car model (translate to English if needed, or use empty string \"\" if not mentioned)\n",
    "   - fault: Problem description (MUST translate to English before calling the function)\n",
    "\n",
    "5. When extracting and translating information:\n",
    "   - If someone says \"Mon moteur Toyota Camry surchauffe\" (French), translate and use:\n",
    "     * brand: \"Toyota\"\n",
    "     * model: \"Camry\"\n",
    "     * fault: \"engine overheating\"\n",
    "   - If someone says \"ブレーキ音がする\" (Japanese - brake noise), use:\n",
    "     * brand: \"\" (if not mentioned)\n",
    "     * model: \"\" (if not mentioned)\n",
    "     * fault: \"brake making noise\"\n",
    "   - If someone says \"הסוללה של ההונדה שלי נגמרת מהר\" (Hebrew - Honda battery drains fast), use:\n",
    "     * brand: \"Honda\"\n",
    "     * model: \"\" (if not mentioned)\n",
    "     * fault: \"battery draining fast\"\n",
    "\n",
    "6. Present the troubleshooting solutions ONLY using information returned by the get_resolution_english function:\n",
    "   - You MUST respond to the user in the SAME language they used in their question\n",
    "   - Translate the results back to the user's language if they asked in a non-English language\n",
    "   - Present each solution clearly with:\n",
    "     * Car brand and model (keep these as provided in English or translate common brand names)\n",
    "     * Fault description (translated to user's language)\n",
    "     * Fix instructions (translated to user's language)\n",
    "     * Relevance score if helpful for the user\n",
    "   - Do NOT add any additional troubleshooting advice not present in the function results\n",
    "   - Do NOT supplement with general automotive knowledge\n",
    "   - Do NOT make assumptions or add information not explicitly provided\n",
    "\n",
    "7. Format your response clearly:\n",
    "   - If user asked in French, respond in French\n",
    "   - If user asked in Japanese, respond in Japanese\n",
    "   - If user asked in Hebrew, respond in Hebrew\n",
    "   - Always translate the fault and fix descriptions to match the user's language\n",
    "   - Keep technical terms clear and accurate\n",
    "   - End with encouraging words in the user's language such as:\n",
    "     * English: \"Try these fixes and see if they resolve your issue\"\n",
    "     * French: \"Essayez ces solutions et voyez si elles résolvent votre problème\"\n",
    "     * Spanish: \"Prueba estas soluciones y verifica si resuelven tu problema\"\n",
    "     * Japanese: \"これらの修理を試してみて、問題が解決するか確認してください\"\n",
    "     * Chinese: \"试试这些解决方法，看看是否能解决问题\"\n",
    "     * Hebrew: \"נסה את התיקונים האלה ובדוק אם הם פותרים את הבעיה\"\n",
    "\n",
    "8. If the user's query is completely unrelated to car problems, politely explain in their language that you can only help with car troubleshooting issues.\n",
    "\n",
    "Remember:\n",
    "- ALWAYS detect the user's language first\n",
    "- ALWAYS translate brand, model, and fault to English before calling get_resolution_english\n",
    "- ALWAYS respond back to the user in their original language\n",
    "- Brand and model can be empty strings \"\" if not mentioned by the user\n",
    "- Do NOT ask for brand or model if they are not clearly mentioned - the function can work without them\n",
    "- ONLY ask for clarification if no fault/problem description can be identified at all\n",
    "- ONLY present information that comes directly from the get_resolution_english function response\n",
    "- Keep the tone friendly and helpful while staying factual to the returned data\n",
    "\"\"\""
   ]
  },
  {
   "cell_type": "markdown",
   "id": "0e6a3b48",
   "metadata": {},
   "source": [
    "### Native Language Approach System Prompt\n",
    "\n",
    "This agent searches in the user's original language:\n",
    "- Detects user language\n",
    "- Preserves all parameters in original language (no translation)\n",
    "- Searches in native language index (using either Cohere or OpenAI embeddings)\n",
    "- Returns results in the same language\n",
    "\n",
    "**Note**: This system prompt is shared by both `agent_multi_cohere` and `agent_multi_openai` agents. The difference between them is the embedding model and function they use:\n",
    "- `agent_multi_cohere`: Uses `get_resolution_asked_language_cohere` with 1024-dim Cohere embeddings\n",
    "- `agent_multi_openai`: Uses `get_resolution_asked_language_openai` with 1536-dim OpenAI embeddings"
   ]
  },
  {
   "cell_type": "markdown",
   "id": "75ad5ff0",
   "metadata": {},
   "source": [
    "## Configure Agent Toolsets\n",
    "\n",
    "Create toolsets for each agent approach:\n",
    "- **toolset_english**: Uses `get_resolution_english` function with OpenAI embeddings on English-translated content\n",
    "- **toolset_asked_language_cohere**: Uses `get_resolution_asked_language_cohere` function with Cohere embeddings on native language content\n",
    "- **toolset_asked_language_openai**: Uses `get_resolution_asked_language_openai` function with OpenAI embeddings on native language content\n",
    "\n",
    "Each toolset defines the function calling capabilities available to the agent."
   ]
  },
  {
   "cell_type": "code",
   "execution_count": null,
   "id": "02011c34",
   "metadata": {},
   "outputs": [],
   "source": [
    "custom_functions = { get_resolution_english }\n",
    "\n",
    "functions = FunctionTool(functions=custom_functions)\n",
    "toolset_english = ToolSet()\n",
    "toolset_english.add(functions)\n",
    "\n",
    "custom_functions_asked_language_cohere = { get_resolution_asked_language_cohere }\n",
    "functions = FunctionTool(functions=custom_functions_asked_language_cohere)\n",
    "toolset_asked_language_cohere = ToolSet()\n",
    "toolset_asked_language_cohere.add(functions)\n",
    "\n",
    "custom_functions_asked_language_openai = { get_resolution_asked_language_openai }\n",
    "functions = FunctionTool(functions=custom_functions_asked_language_openai)\n",
    "toolset_asked_language_openai = ToolSet()\n",
    "toolset_asked_language_openai.add(functions)\n",
    "\n",
    "toolsets = [toolset_english, toolset_asked_language_cohere, toolset_asked_language_openai]\n",
    "\n",
    "for tools in toolsets:\n",
    "    for tool in tools._tools:\n",
    "        tool_name = tool.__class__.__name__\n",
    "        print(f\"tool > {tool_name}\")\n",
    "        for definition in tool.definitions:\n",
    "            if hasattr(definition, \"function\"):\n",
    "                fn = definition.function\n",
    "                print(f\"{fn.name} > {fn.description}\")\n",
    "            else:\n",
    "                pass"
   ]
  },
  {
   "cell_type": "markdown",
   "id": "e6a50940",
   "metadata": {},
   "source": [
    "## Agent Registration Helper\n",
    "\n",
    "The `register_agents` function creates or updates agents in Azure AI Foundry:\n",
    "- Checks if agent already exists by name\n",
    "- Updates existing agent or creates new one\n",
    "- Assigns the appropriate model, instructions, and toolset"
   ]
  },
  {
   "cell_type": "code",
   "execution_count": null,
   "id": "69925ebf",
   "metadata": {},
   "outputs": [],
   "source": [
    "def register_agents(agent_name:str, instruction:str, toolset:ToolSet):\n",
    "    found_agent = None\n",
    "\n",
    "    all_agents_list = project.agents.list_agents()\n",
    "\n",
    "    for agent in all_agents_list:\n",
    "        if agent.name == agent_name:\n",
    "            found_agent = agent\n",
    "            break\n",
    "\n",
    "    if found_agent:\n",
    "        agent = project.agents.update_agent(\n",
    "            agent_id=found_agent.id,\n",
    "            model=open_ai_completion_chat_model,\n",
    "            name=agent_name,\n",
    "            instructions=instruction,\n",
    "            toolset=toolset\n",
    "        )\n",
    "        print(f\"reusing agent > {agent.name} (id: {agent.id})\")\n",
    "    else:\n",
    "        agent = project.agents.create_agent(\n",
    "            model=open_ai_completion_chat_model,\n",
    "            name=agent_name,\n",
    "            instructions=instruction,\n",
    "            toolset=toolset\n",
    "        )\n",
    "        print(f\"creating agent > {agent.name} (id: {agent.id})\")   \n",
    "\n",
    "    return agent     "
   ]
  },
  {
   "cell_type": "markdown",
   "id": "73d19263",
   "metadata": {},
   "source": [
    "## Register All Three Agents\n",
    "\n",
    "Create or update all three agent variants in Azure AI Foundry with their respective configurations:\n",
    "1. English translation agent with OpenAI embeddings\n",
    "2. Native language agent with Cohere embeddings\n",
    "3. Native language agent with OpenAI embeddings"
   ]
  },
  {
   "cell_type": "code",
   "execution_count": null,
   "id": "da3ec2ff",
   "metadata": {},
   "outputs": [],
   "source": [
    "agent_english = register_agents(AGENT_NAME_ENGLISH, instructions_english, toolset_english)\n",
    "agent_multi_cohere = register_agents(AGENT_MULTI_COHERE, instructions_asked_language, toolset_asked_language_cohere)\n",
    "agent_multi_openai = register_agents(AGENT_MULTI_OPEN_AI, instructions_asked_language, toolset_asked_language_openai)"
   ]
  },
  {
   "cell_type": "markdown",
   "id": "65358316",
   "metadata": {},
   "source": [
    "## Helper Function: Get Answer\n",
    "\n",
    "The `get_answer` function orchestrates the agent interaction:\n",
    "1. Creates a new conversation thread\n",
    "2. Sends the user message\n",
    "3. Runs the agent with function calling enabled\n",
    "4. Extracts and returns the agent's response"
   ]
  },
  {
   "cell_type": "code",
   "execution_count": null,
   "id": "1ef76538",
   "metadata": {},
   "outputs": [],
   "source": [
    "def get_answer(prompt: str, agent_id: str) -> str:\n",
    "    thread = project.agents.threads.create()\n",
    "\n",
    "    message = project.agents.messages.create(\n",
    "        thread_id=thread.id,\n",
    "        role=MessageRole.USER,\n",
    "        content=prompt\n",
    "    )\n",
    "\n",
    "    run = project.agents.runs.create_and_process(\n",
    "        thread_id=thread.id,\n",
    "        agent_id=agent_id\n",
    "    )\n",
    "    \n",
    "    # Check if the run completed successfully\n",
    "    if run.status != \"completed\":\n",
    "        return f\"Run did not complete successfully. Status: {run.status}\"\n",
    "    \n",
    "    # Get the last message by the agent\n",
    "    message = project.agents.messages.get_last_message_by_role(\n",
    "        thread_id=thread.id,\n",
    "        role=MessageRole.AGENT\n",
    "    )\n",
    "    \n",
    "    # Check if message exists and has content\n",
    "    if message is None:\n",
    "        return \"No response from agent\"\n",
    "    \n",
    "    if not message.content or len(message.content) == 0:\n",
    "        return \"Agent responded but message content is empty\"\n",
    "    \n",
    "    # Safely extract the text value\n",
    "    try:\n",
    "        return message.content[0]['text']['value']\n",
    "    except (KeyError, TypeError, IndexError) as e:\n",
    "        return f\"Error extracting message content: {e}. Content: {message.content}\""
   ]
  },
  {
   "cell_type": "markdown",
   "id": "fd8bff0f",
   "metadata": {},
   "source": [
    "---\n",
    "\n",
    "## Testing: English Translation Approach\n",
    "\n",
    "Enable auto function calls for the English translation agent and test with various language queries."
   ]
  },
  {
   "cell_type": "code",
   "execution_count": null,
   "id": "fc491b37",
   "metadata": {},
   "outputs": [],
   "source": [
    "project.agents.enable_auto_function_calls(tools=toolset_english)"
   ]
  },
  {
   "cell_type": "markdown",
   "id": "971cff47",
   "metadata": {},
   "source": [
    "### Test 1: English Query\n",
    "\n",
    "Test with an English car problem query."
   ]
  },
  {
   "cell_type": "code",
   "execution_count": null,
   "id": "5e9873c1",
   "metadata": {},
   "outputs": [],
   "source": [
    "question = \"My civic engine is overheating\"\n",
    "\n",
    "answer = get_answer(question,agent_english.id)\n",
    "\n",
    "print(answer)"
   ]
  },
  {
   "cell_type": "markdown",
   "id": "8ccafa4c",
   "metadata": {},
   "source": [
    "### Test 2: French Query\n",
    "\n",
    "Test with a French query - agent will translate to English, search, and respond in French."
   ]
  },
  {
   "cell_type": "code",
   "execution_count": null,
   "id": "2f3bfca2",
   "metadata": {},
   "outputs": [],
   "source": [
    "question = \"Ma Ford Focus les freins sont bruyants\"\n",
    "\n",
    "answer = get_answer(question,agent_english.id)\n",
    "\n",
    "print(answer)"
   ]
  },
  {
   "cell_type": "markdown",
   "id": "16e0f855",
   "metadata": {},
   "source": [
    "### Test 3: Another French Query\n",
    "\n",
    "Test with another French car problem about engine overheating."
   ]
  },
  {
   "cell_type": "code",
   "execution_count": null,
   "id": "effd6cb7",
   "metadata": {},
   "outputs": [],
   "source": [
    "question = \"Le moteur de ma Toyota chauffe trop\"\n",
    "\n",
    "answer = get_answer(question,agent_english.id)\n",
    "\n",
    "print(answer)"
   ]
  },
  {
   "cell_type": "markdown",
   "id": "a53c2c97",
   "metadata": {},
   "source": [
    "### Test 4: Hebrew Query\n",
    "\n",
    "Test with a Hebrew query - agent will translate to English, search, and respond in Hebrew."
   ]
  },
  {
   "cell_type": "code",
   "execution_count": null,
   "id": "464938d3",
   "metadata": {},
   "outputs": [],
   "source": [
    "question = \"הבלמים בפורד פוקוס שלי רועשים\"\n",
    "\n",
    "answer = get_answer(question,agent_english.id)\n",
    "\n",
    "print(answer)"
   ]
  },
  {
   "cell_type": "markdown",
   "id": "eef81c19",
   "metadata": {},
   "source": [
    "---\n",
    "\n",
    "## Testing: Native Language Approach With Cohere\n",
    "\n",
    "Enable auto function calls for the native language agent and test queries in their original language."
   ]
  },
  {
   "cell_type": "code",
   "execution_count": null,
   "id": "e64aba9b",
   "metadata": {},
   "outputs": [],
   "source": [
    "project.agents.enable_auto_function_calls(tools=toolset_asked_language_cohere)"
   ]
  },
  {
   "cell_type": "markdown",
   "id": "69550b0a",
   "metadata": {},
   "source": [
    "### Test 5: French Query (Native Search)\n",
    "\n",
    "Search in French without translation to English."
   ]
  },
  {
   "cell_type": "code",
   "execution_count": null,
   "id": "b160f7bc",
   "metadata": {},
   "outputs": [],
   "source": [
    "question = \"Le moteur de ma Toyota chauffe trop\"\n",
    "\n",
    "answer = get_answer(question,agent_multi_cohere.id)\n",
    "\n",
    "print(answer)"
   ]
  },
  {
   "cell_type": "code",
   "execution_count": null,
   "id": "867dad9e",
   "metadata": {},
   "outputs": [],
   "source": [
    "question = \"My Volkswagen Gold engine is engine is overheating\"\n",
    "\n",
    "answer = get_answer(question,agent_multi_cohere.id)\n",
    "\n",
    "print(answer)"
   ]
  },
  {
   "cell_type": "code",
   "execution_count": null,
   "id": "b1d5abca",
   "metadata": {},
   "outputs": [],
   "source": [
    "question = \"The brakes are noisy\"\n",
    "\n",
    "answer = get_answer(question,agent_multi_cohere.id)\n",
    "\n",
    "print(answer)"
   ]
  },
  {
   "cell_type": "markdown",
   "id": "fb173bcf",
   "metadata": {},
   "source": [
    "---\n",
    "\n",
    "## Testing: Native Language Approach With OpenAI\n",
    "\n",
    "Enable auto function calls for the native language agent using OpenAI embeddings (1536 dimensions) and test queries in their original language.\n",
    "\n",
    "**Key Difference**: This agent uses OpenAI's text-embedding-ada-002 model instead of Cohere's embedding model, allowing comparison between the two embedding approaches for multilingual search."
   ]
  },
  {
   "cell_type": "code",
   "execution_count": null,
   "id": "3ca62091",
   "metadata": {},
   "outputs": [],
   "source": [
    "project.agents.enable_auto_function_calls(tools=toolset_asked_language_openai)"
   ]
  },
  {
   "cell_type": "code",
   "execution_count": null,
   "id": "fa7953ad",
   "metadata": {},
   "outputs": [],
   "source": [
    "question = \"Le moteur de ma Toyota chauffe trop\"\n",
    "\n",
    "answer = get_answer(question,agent_multi_openai.id)\n",
    "\n",
    "print(answer)"
   ]
  },
  {
   "cell_type": "code",
   "execution_count": null,
   "id": "bfccbbb4",
   "metadata": {},
   "outputs": [],
   "source": [
    "question = \"הבלמים בפורד פוקוס שלי רועשים\"\n",
    "\n",
    "answer = get_answer(question,agent_multi_openai.id)\n",
    "\n",
    "print(answer)"
   ]
  }
 ],
 "metadata": {
  "kernelspec": {
   "display_name": ".venv",
   "language": "python",
   "name": "python3"
  },
  "language_info": {
   "codemirror_mode": {
    "name": "ipython",
    "version": 3
   },
   "file_extension": ".py",
   "mimetype": "text/x-python",
   "name": "python",
   "nbconvert_exporter": "python",
   "pygments_lexer": "ipython3",
   "version": "3.10.12"
  }
 },
 "nbformat": 4,
 "nbformat_minor": 5
}
