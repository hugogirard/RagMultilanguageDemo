{
 "cells": [
  {
   "cell_type": "markdown",
   "id": "54f9c218",
   "metadata": {},
   "source": [
    "# Azure AI Search Index Creation\n",
    "\n",
    "This notebook creates an Azure AI Search index for a multilingual car troubleshooting system. The index supports both traditional keyword search and vector-based semantic search for better query understanding across languages.\n",
    "\n",
    "## Overview\n",
    "- **Purpose**: Create a search index to store and query car troubleshooting information\n",
    "- **Features**: Multilingual support, vector search, faceted navigation\n",
    "- **Use Case**: Enable users to search for car problems and solutions in their native language"
   ]
  },
  {
   "cell_type": "markdown",
   "id": "4f7e358e",
   "metadata": {},
   "source": [
    "## Step 1: Import Required Libraries\n",
    "\n",
    "Import the necessary Python libraries for:\n",
    "- Environment variable management (dotenv)\n",
    "- Azure AI Search client and authentication\n",
    "- Index schema definitions and vector search configuration"
   ]
  },
  {
   "cell_type": "code",
   "execution_count": 1,
   "id": "6f450c89",
   "metadata": {},
   "outputs": [],
   "source": [
    "from dotenv import load_dotenv\n",
    "from azure.search.documents.indexes.aio import SearchIndexClient\n",
    "from azure.core.credentials import AzureKeyCredential\n",
    "from azure.search.documents.indexes.models import (\n",
    "    SearchField,\n",
    "    VectorSearch,\n",
    "    HnswAlgorithmConfiguration,\n",
    "    VectorSearchProfile,\n",
    "    SearchIndex,    \n",
    "    SearchFieldDataType\n",
    ")\n",
    "import os"
   ]
  },
  {
   "cell_type": "markdown",
   "id": "378fa4c1",
   "metadata": {},
   "source": [
    "## Step 2: Load Azure AI Search Configuration\n",
    "\n",
    "Load the Azure AI Search endpoint and API key from environment variables. These credentials are required to authenticate and connect to your Azure AI Search service.\n",
    "\n",
    "**Required Environment Variables:**\n",
    "- `SEARCH_ENDPOINT`: Your Azure AI Search service URL (e.g., https://your-service.search.windows.net)\n",
    "- `SEARCH_API_KEY`: Admin API key for full access to create/modify indexes"
   ]
  },
  {
   "cell_type": "code",
   "execution_count": 2,
   "id": "d6df251b",
   "metadata": {},
   "outputs": [],
   "source": [
    "load_dotenv(override=True)\n",
    "\n",
    "search_endpoint = os.getenv('SEARCH_ENDPOINT')\n",
    "search_api_key = os.getenv('SEARCH_API_KEY')"
   ]
  },
  {
   "cell_type": "markdown",
   "id": "e2af3e1a",
   "metadata": {},
   "source": [
    "## Step 3: Create the Search Index\n",
    "\n",
    "This cell performs the following operations:\n",
    "\n",
    "### 3.1 Delete Existing Index (if present)\n",
    "Ensures a clean slate by removing any previously created index with the same name.\n",
    "\n",
    "### 3.2 Define Index Schema\n",
    "Creates fields for:\n",
    "- **id**: Unique document identifier (key field)\n",
    "- **original_language**: Language code of the source content\n",
    "- **brand / brand_en**: Car manufacturer name (original and English)\n",
    "- **model / model_en**: Car model (original and English) - filterable and facetable\n",
    "- **fault / fault_en**: Problem description (original and English)\n",
    "- **fix**: Solution description (searchable)\n",
    "- **vector_fix**: 1536-dimensional embedding vector for semantic search\n",
    "\n",
    "### 3.3 Configure Vector Search\n",
    "Uses HNSW (Hierarchical Navigable Small World) algorithm for:\n",
    "- Fast approximate nearest neighbor search\n",
    "- Efficient semantic similarity matching\n",
    "- Scalable vector search across large datasets\n",
    "\n",
    "### 3.4 Create Index\n",
    "Deploys the index configuration to Azure AI Search service.\n",
    "\n",
    "**Note**: The 1536 dimensions are compatible with OpenAI's text-embedding-ada-002 model."
   ]
  },
  {
   "cell_type": "code",
   "execution_count": 5,
   "id": "9707b81e",
   "metadata": {},
   "outputs": [
    {
     "name": "stdout",
     "output_type": "stream",
     "text": [
      "cartroubleshooting created\n"
     ]
    }
   ],
   "source": [
    "index_name = \"cartroubleshooting\"\n",
    "\n",
    "# Initialize the search index client\n",
    "index_client = SearchIndexClient(endpoint=search_endpoint,credential=AzureKeyCredential(search_api_key))\n",
    "\n",
    "# Delete existing index if it exists to start fresh\n",
    "try:\n",
    "    index = await index_client.get_index(index_name)\n",
    "    if index:\n",
    "        await index_client.delete_index(index_name)\n",
    "except Exception:\n",
    "    print(\"No Index found\")\n",
    "\n",
    "# Define the index schema with fields for multilingual content\n",
    "# Fields ending in \"_en\" contain English translations\n",
    "fields = [\n",
    "    SearchField(name=\"id\", type=SearchFieldDataType.String,key=True),   \n",
    "    #SearchField(name=\"original_language\", type=SearchFieldDataType.String, searchable=False,sortable=False, facetable=False, filterable=False),\n",
    "    #SearchField(name=\"brand_en\", type=SearchFieldDataType.String, searchable=True,sortable=False, facetable=False, filterable=False),      \n",
    "    SearchField(name=\"brand\", type=SearchFieldDataType.String, searchable=True,sortable=False, facetable=False, filterable=False),      \n",
    "    #SearchField(name=\"model_en\", type=SearchFieldDataType.String, searchable=True,sortable=False, facetable=True, filterable=True),  \n",
    "    SearchField(name=\"model\", type=SearchFieldDataType.String, searchable=True,sortable=False, facetable=True, filterable=True),  \n",
    "    #SearchField(name=\"fault_en\", type=SearchFieldDataType.String, searchable=True,sortable=False, facetable=False, filterable=False),\n",
    "    SearchField(name=\"fault\", type=SearchFieldDataType.String, searchable=True,sortable=False, facetable=False, filterable=False),\n",
    "    # Vector field for semantic search using embeddings (1536 dimensions for OpenAI text-embedding-ada-002)\n",
    "    SearchField(name=\"vector\", type=SearchFieldDataType.Collection(SearchFieldDataType.Single), vector_search_dimensions=1024, vector_search_profile_name=\"vector-profile-1\",searchable=True,sortable=False, facetable=False, filterable=False),\n",
    "    SearchField(name=\"fix\", type=SearchFieldDataType.String, searchable=True,sortable=False, facetable=False, filterable=False)    \n",
    "]    \n",
    "\n",
    "# Configure vector search using HNSW (Hierarchical Navigable Small World) algorithm\n",
    "# This enables efficient approximate nearest neighbor search for semantic similarity\n",
    "vector_search = VectorSearch(  \n",
    "    algorithms=[  \n",
    "        HnswAlgorithmConfiguration(name=\"myHnsw\"),\n",
    "    ],  \n",
    "    profiles=[  \n",
    "        VectorSearchProfile(  \n",
    "            name=\"vector-profile-1\",  \n",
    "            algorithm_configuration_name=\"myHnsw\"\n",
    "        )\n",
    "    ]\n",
    ")\n",
    "\n",
    "# Create the search index with the defined schema and vector search configuration\n",
    "index = SearchIndex(name=index_name, fields=fields, vector_search=vector_search)\n",
    "result = await index_client.create_or_update_index(index)\n",
    "print(f\"{result.name} created\")\n",
    "\n",
    "# Clean up: close the index client connection\n",
    "await index_client.close()"
   ]
  },
  {
   "cell_type": "markdown",
   "id": "d141da0c",
   "metadata": {},
   "source": [
    "## Next Steps\n",
    "\n",
    "After running this notebook, you can:\n",
    "1. **Populate the index** with car troubleshooting documents\n",
    "2. **Perform searches** using keywords or semantic queries\n",
    "3. **Filter results** by car model or other facetable fields\n",
    "4. **Test multilingual search** capabilities\n",
    "\n",
    "The index is now ready to receive data and handle search queries!"
   ]
  }
 ],
 "metadata": {
  "kernelspec": {
   "display_name": ".venv",
   "language": "python",
   "name": "python3"
  },
  "language_info": {
   "codemirror_mode": {
    "name": "ipython",
    "version": 3
   },
   "file_extension": ".py",
   "mimetype": "text/x-python",
   "name": "python",
   "nbconvert_exporter": "python",
   "pygments_lexer": "ipython3",
   "version": "3.10.12"
  }
 },
 "nbformat": 4,
 "nbformat_minor": 5
}
