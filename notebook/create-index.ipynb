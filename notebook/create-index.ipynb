{
 "cells": [
  {
   "cell_type": "markdown",
   "id": "54f9c218",
   "metadata": {},
   "source": [
    "# 🚗 Azure AI Search Index Creation for Multilingual Car Troubleshooting\n",
    "\n",
    "Welcome! This notebook will guide you through creating a powerful search index that helps users find car troubleshooting solutions in multiple languages. \n",
    "\n",
    "## 🎯 What We'll Build\n",
    "This notebook creates an Azure AI Search index designed specifically for a multilingual car troubleshooting system. The index combines traditional keyword search with cutting-edge vector-based semantic search for better understanding of queries across different languages.\n",
    "\n",
    "## ✨ Key Features\n",
    "- 🌍 **Multilingual Support**: Search in your native language\n",
    "- 🔍 **Vector Search**: Semantic understanding using AI embeddings\n",
    "- 🏷️ **Faceted Navigation**: Filter by car models and brands\n",
    "- ⚡ **Fast Performance**: HNSW algorithm for efficient vector search\n",
    "\n",
    "## 📋 What You'll Learn\n",
    "By the end of this notebook, you'll have created three different index configurations to test various multilingual search strategies!"
   ]
  },
  {
   "cell_type": "markdown",
   "id": "9c6f3a9a",
   "metadata": {},
   "source": [
    "---\n",
    "\n",
    "## 📚 Prerequisites\n",
    "\n",
    "Before running this notebook, make sure you have:\n",
    "- ✅ An Azure AI Search service created\n",
    "- ✅ Environment variables configured (`.env` file)\n",
    "- ✅ Python packages installed: `azure-search-documents`, `python-dotenv`\n",
    "\n",
    "Let's get started! 🚀"
   ]
  },
  {
   "cell_type": "markdown",
   "id": "4f7e358e",
   "metadata": {},
   "source": [
    "## Step 1: Import Required Libraries 📦\n",
    "\n",
    "First, we'll import all the necessary Python libraries. These tools will help us:\n",
    "- 🔐 Manage environment variables securely (dotenv)\n",
    "- 🔗 Connect to Azure AI Search (authentication)\n",
    "- 📊 Define the index structure (schema definitions)\n",
    "- 🎯 Configure vector search capabilities"
   ]
  },
  {
   "cell_type": "code",
   "execution_count": 2,
   "id": "6f450c89",
   "metadata": {},
   "outputs": [],
   "source": [
    "from dotenv import load_dotenv\n",
    "from azure.search.documents.indexes.aio import SearchIndexClient\n",
    "from azure.core.credentials import AzureKeyCredential\n",
    "from azure.search.documents.indexes.models import (\n",
    "    SearchField,\n",
    "    VectorSearch,\n",
    "    HnswAlgorithmConfiguration,\n",
    "    VectorSearchProfile,\n",
    "    SearchIndex,    \n",
    "    SearchFieldDataType\n",
    ")\n",
    "import os"
   ]
  },
  {
   "cell_type": "markdown",
   "id": "d991dca4",
   "metadata": {},
   "source": [
    "✅ **Libraries loaded!** We're ready to connect to Azure."
   ]
  },
  {
   "cell_type": "markdown",
   "id": "378fa4c1",
   "metadata": {},
   "source": [
    "## Step 2: Load Azure AI Search Configuration 🔑\n",
    "\n",
    "Now we'll load your Azure AI Search credentials from environment variables. This keeps your sensitive information secure and out of the code.\n",
    "\n",
    "**Required Environment Variables:**\n",
    "- `SEARCH_ENDPOINT`: Your Azure AI Search service URL \n",
    "  - Example: `https://your-service.search.windows.net`\n",
    "- `SEARCH_API_KEY`: Admin API key for full access to create/modify indexes\n",
    "\n",
    "💡 **Tip**: Make sure your `.env` file is in the project root directory!"
   ]
  },
  {
   "cell_type": "code",
   "execution_count": 3,
   "id": "d6df251b",
   "metadata": {},
   "outputs": [],
   "source": [
    "load_dotenv(override=True)\n",
    "\n",
    "search_endpoint = os.getenv('SEARCH_ENDPOINT')\n",
    "search_api_key = os.getenv('SEARCH_API_KEY')"
   ]
  },
  {
   "cell_type": "markdown",
   "id": "c240174b",
   "metadata": {},
   "source": [
    "🔌 **Configuration loaded!** We're connected to your Azure AI Search service."
   ]
  },
  {
   "cell_type": "markdown",
   "id": "e2af3e1a",
   "metadata": {},
   "source": [
    "## Step 3: Define Index Schemas 🏗️\n",
    "\n",
    "This is where the magic happens! We'll define **three different index configurations** to test various multilingual search approaches:\n",
    "\n",
    "### 🌐 Index 1: \"multilanguage\"\n",
    "- **Strategy**: Vectorize content in its original language\n",
    "- **Vector Size**: 1024 dimensions (Cohere embeddings)\n",
    "- **Use Case**: Test native language embedding performance\n",
    "\n",
    "### 🔄 Index 2: \"translated\" \n",
    "- **Strategy**: Translate everything to English before vectorizing\n",
    "- **Vector Size**: 1536 dimensions (OpenAI embeddings)\n",
    "- **Use Case**: Leverage English-trained models for all languages\n",
    "\n",
    "### 🎭 Index 3: \"translated_dual\"\n",
    "- **Strategy**: Store both original language AND English vectors\n",
    "- **Vector Sizes**: 1024 (original) + 1536 (English) dimensions\n",
    "- **Use Case**: Best of both worlds - hybrid search capability\n",
    "\n",
    "### 📋 Common Fields\n",
    "All indexes include:\n",
    "- **id** 🔑: Unique identifier\n",
    "- **original_language** 🌍: Source language code\n",
    "- **brand** 🚗: Car manufacturer\n",
    "- **model** 🏷️: Car model (filterable)\n",
    "- **fault** ⚠️: Problem description\n",
    "- **fix** 🔧: Solution instructions"
   ]
  },
  {
   "cell_type": "code",
   "execution_count": 12,
   "id": "8cb7ba69",
   "metadata": {},
   "outputs": [],
   "source": [
    "indexes = [\n",
    "    {\n",
    "        # This index will vectorize in the original language using cohere\n",
    "        # This will affect the research since the embedding of the prompt\n",
    "        # will be in the current language of the user\n",
    "        'name': 'multilanguage',\n",
    "        'fields': [\n",
    "                SearchField(name=\"id\", type=SearchFieldDataType.String,key=True),   \n",
    "                SearchField(name=\"original_language\", type=SearchFieldDataType.String, searchable=False,sortable=False, facetable=False, filterable=False),                \n",
    "                SearchField(name=\"brand\", type=SearchFieldDataType.String, searchable=True,sortable=False, facetable=False, filterable=False),                      \n",
    "                SearchField(name=\"model\", type=SearchFieldDataType.String, searchable=True,sortable=False, facetable=True, filterable=True),                  \n",
    "                SearchField(name=\"fault\", type=SearchFieldDataType.String, searchable=True,sortable=False, facetable=False, filterable=False),                \n",
    "                SearchField(name=\"vector\", type=SearchFieldDataType.Collection(SearchFieldDataType.Single), vector_search_dimensions=1024, vector_search_profile_name=\"vector-profile-1\",searchable=True,sortable=False, facetable=False, filterable=False),\n",
    "                SearchField(name=\"fix\", type=SearchFieldDataType.String, searchable=True,sortable=False, facetable=False, filterable=False)    \n",
    "        ]    \n",
    "    },\n",
    "    {\n",
    "        # This index will vectorize in english when the languague is not in english\n",
    "        'name': 'translated',\n",
    "        'fields': [\n",
    "                SearchField(name=\"id\", type=SearchFieldDataType.String,key=True),   \n",
    "                SearchField(name=\"original_language\", type=SearchFieldDataType.String, searchable=False,sortable=False, facetable=False, filterable=False),                \n",
    "                SearchField(name=\"brand\", type=SearchFieldDataType.String, searchable=True,sortable=False, facetable=False, filterable=False),                      \n",
    "                SearchField(name=\"model\", type=SearchFieldDataType.String, searchable=True,sortable=False, facetable=True, filterable=True),                  \n",
    "                SearchField(name=\"fault\", type=SearchFieldDataType.String, searchable=True,sortable=False, facetable=False, filterable=False),                \n",
    "                SearchField(name=\"vector\", type=SearchFieldDataType.Collection(SearchFieldDataType.Single), vector_search_dimensions=1536, vector_search_profile_name=\"vector-profile-1\",searchable=True,sortable=False, facetable=False, filterable=False),\n",
    "                SearchField(name=\"fix\", type=SearchFieldDataType.String, searchable=True,sortable=False, facetable=False, filterable=False)    \n",
    "        ]            \n",
    "    },\n",
    "    {\n",
    "        # This index will vectorize in english when the languague is not in english and another vector in the actual language\n",
    "        'name': 'translated_dual',\n",
    "        'fields': [\n",
    "                SearchField(name=\"id\", type=SearchFieldDataType.String,key=True),   \n",
    "                SearchField(name=\"original_language\", type=SearchFieldDataType.String, searchable=False,sortable=False, facetable=False, filterable=False),                \n",
    "                SearchField(name=\"brand\", type=SearchFieldDataType.String, searchable=True,sortable=False, facetable=False, filterable=False),                      \n",
    "                SearchField(name=\"model\", type=SearchFieldDataType.String, searchable=True,sortable=False, facetable=True, filterable=True),                  \n",
    "                SearchField(name=\"fault\", type=SearchFieldDataType.String, searchable=True,sortable=False, facetable=False, filterable=False),                \n",
    "                SearchField(name=\"vector\", type=SearchFieldDataType.Collection(SearchFieldDataType.Single), vector_search_dimensions=1024, vector_search_profile_name=\"vector-profile-1\",searchable=True,sortable=False, facetable=False, filterable=False),\n",
    "                SearchField(name=\"vector_english\", type=SearchFieldDataType.Collection(SearchFieldDataType.Single), vector_search_dimensions=1536, vector_search_profile_name=\"vector-profile-1\",searchable=True,sortable=False, facetable=False, filterable=False),\n",
    "                SearchField(name=\"fix\", type=SearchFieldDataType.String, searchable=True,sortable=False, facetable=False, filterable=False)    \n",
    "        ]            \n",
    "    }    \n",
    "]"
   ]
  },
  {
   "cell_type": "markdown",
   "id": "3fe45114",
   "metadata": {},
   "source": [
    "📐 **Index schemas defined!** Three different strategies ready to deploy.\n",
    "\n",
    "---\n",
    "\n",
    "## 🚀 Creating the Indexes\n",
    "\n",
    "Now we'll create all three indexes in your Azure AI Search service. This process will:\n",
    "\n",
    "1. 🗑️ **Clean up**: Delete any existing indexes with the same names\n",
    "2. ⚙️ **Configure**: Set up HNSW vector search algorithm\n",
    "3. 📤 **Deploy**: Push the index definitions to Azure\n",
    "4. ✅ **Verify**: Confirm successful creation\n",
    "\n",
    "The HNSW (Hierarchical Navigable Small World) algorithm provides:\n",
    "- ⚡ Fast approximate nearest neighbor search\n",
    "- 🎯 Efficient semantic similarity matching\n",
    "- 📈 Scalability for large datasets\n",
    "\n",
    "Let's create them! 🎬"
   ]
  },
  {
   "cell_type": "code",
   "execution_count": 13,
   "id": "9707b81e",
   "metadata": {},
   "outputs": [
    {
     "name": "stdout",
     "output_type": "stream",
     "text": [
      "multilanguage created\n",
      "translated created\n",
      "No Index found\n",
      "translated created\n",
      "No Index found\n",
      "translated_dual created\n",
      "translated_dual created\n"
     ]
    }
   ],
   "source": [
    "# Initialize the search index client\n",
    "index_client = SearchIndexClient(endpoint=search_endpoint,credential=AzureKeyCredential(search_api_key))\n",
    "\n",
    "# Configure vector search using HNSW (Hierarchical Navigable Small World) algorithm\n",
    "# This enables efficient approximate nearest neighbor search for semantic similarity\n",
    "vector_search = VectorSearch(  \n",
    "    algorithms=[  \n",
    "        HnswAlgorithmConfiguration(name=\"myHnsw\"),\n",
    "    ],  \n",
    "    profiles=[  \n",
    "        VectorSearchProfile(  \n",
    "            name=\"vector-profile-1\",  \n",
    "            algorithm_configuration_name=\"myHnsw\"\n",
    "        )\n",
    "    ]\n",
    ")\n",
    "\n",
    "for index in indexes:\n",
    "    # Delete existing index if it exists to start fresh\n",
    "    try:\n",
    "        index_found = await index_client.get_index(index['name'])\n",
    "        if index_found:\n",
    "            await index_client.delete_index(index['name'])\n",
    "    except Exception:\n",
    "        print(\"No Index found\")\n",
    "\n",
    "    # Create the search index with the defined schema and vector search configuration\n",
    "    index_definition = SearchIndex(name=index['name'], fields=index['fields'], vector_search=vector_search)\n",
    "    result = await index_client.create_or_update_index(index_definition)\n",
    "    print(f\"{result.name} created\")\n",
    "\n",
    "# Clean up: close the index client connection\n",
    "await index_client.close()"
   ]
  },
  {
   "cell_type": "markdown",
   "id": "962d3912",
   "metadata": {},
   "source": [
    "🎉 **Success!** All three indexes have been created and are ready to use!\n",
    "\n",
    "---"
   ]
  }
 ],
 "metadata": {
  "kernelspec": {
   "display_name": ".venv",
   "language": "python",
   "name": "python3"
  },
  "language_info": {
   "codemirror_mode": {
    "name": "ipython",
    "version": 3
   },
   "file_extension": ".py",
   "mimetype": "text/x-python",
   "name": "python",
   "nbconvert_exporter": "python",
   "pygments_lexer": "ipython3",
   "version": "3.10.12"
  }
 },
 "nbformat": 4,
 "nbformat_minor": 5
}
